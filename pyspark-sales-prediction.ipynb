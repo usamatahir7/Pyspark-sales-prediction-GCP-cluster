{
 "cells": [
  {
   "cell_type": "markdown",
   "metadata": {},
   "source": [
    "# IMPORTING USEFUL LIBRARIES"
   ]
  },
  {
   "cell_type": "code",
   "execution_count": 1,
   "metadata": {},
   "outputs": [],
   "source": [
    "import findspark\n",
    "findspark.init()\n",
    "import pyspark\n",
    "from pyspark.sql import *\n",
    "from pyspark import SparkContext, SparkConf\n",
    "from matplotlib import pyplot as plt\n",
    "import math"
   ]
  },
  {
   "cell_type": "code",
   "execution_count": 2,
   "metadata": {},
   "outputs": [],
   "source": [
    "#spark = SparkSession.builder.master(\"local[*]\").appName(\"SparkDFbasic\").getOrCreate()"
   ]
  },
  {
   "cell_type": "code",
   "execution_count": 3,
   "metadata": {},
   "outputs": [],
   "source": [
    "from pyspark import SparkConf, SparkContext\n",
    "conf = SparkConf().setMaster(\"local\").setAppName(\"My App\")\n",
    "sc = SparkContext(conf = conf)\n",
    "spark = SparkSession.builder.getOrCreate()"
   ]
  },
  {
   "cell_type": "code",
   "execution_count": null,
   "metadata": {},
   "outputs": [],
   "source": []
  },
  {
   "cell_type": "code",
   "execution_count": 4,
   "metadata": {},
   "outputs": [],
   "source": [
    "from pyspark.sql import functions as F\n",
    "from pyspark.sql import *\n",
    "from pyspark.sql.types import IntegerType\n",
    "from pyspark.sql.functions import unix_timestamp, from_unixtime\n",
    "from pyspark.sql import types\n",
    "from pyspark.sql.functions import min, max ,to_timestamp,col, unix_timestamp, to_date\n",
    "from pyspark.sql import Window\n",
    "from pyspark.ml.evaluation import RegressionEvaluator\n",
    "from pyspark.sql import SparkSession"
   ]
  },
  {
   "cell_type": "code",
   "execution_count": 5,
   "metadata": {},
   "outputs": [
    {
     "data": {
      "text/html": [
       "\n",
       "            <div>\n",
       "                <p><b>SparkSession - in-memory</b></p>\n",
       "                \n",
       "        <div>\n",
       "            <p><b>SparkContext</b></p>\n",
       "\n",
       "            <p><a href=\"http://192.168.1.6:4041\">Spark UI</a></p>\n",
       "\n",
       "            <dl>\n",
       "              <dt>Version</dt>\n",
       "                <dd><code>v3.0.0-preview2</code></dd>\n",
       "              <dt>Master</dt>\n",
       "                <dd><code>local</code></dd>\n",
       "              <dt>AppName</dt>\n",
       "                <dd><code>My App</code></dd>\n",
       "            </dl>\n",
       "        </div>\n",
       "        \n",
       "            </div>\n",
       "        "
      ],
      "text/plain": [
       "<pyspark.sql.session.SparkSession at 0x23c8b2695f8>"
      ]
     },
     "execution_count": 5,
     "metadata": {},
     "output_type": "execute_result"
    }
   ],
   "source": [
    "spark"
   ]
  },
  {
   "cell_type": "markdown",
   "metadata": {},
   "source": [
    "# WORKING WITH DATA"
   ]
  },
  {
   "cell_type": "markdown",
   "metadata": {},
   "source": [
    "## Reading the data into pyspark dataframes"
   ]
  },
  {
   "cell_type": "code",
   "execution_count": null,
   "metadata": {},
   "outputs": [],
   "source": []
  },
  {
   "cell_type": "code",
   "execution_count": 6,
   "metadata": {},
   "outputs": [],
   "source": [
    "item_categoriesDf = spark.read.csv('item_categories.csv', header = True, inferSchema = True)\n",
    "itemsDf = spark.read.csv('items.csv', header = True, inferSchema = True)\n",
    "sales_trainDf = spark.read.csv('sales_train.csv',header=True,inferSchema=True)\n",
    "sales_testDf = spark.read.csv('test.csv', header = True, inferSchema = True)\n",
    "shopsDf = spark.read.csv('shops.csv', header = True, inferSchema = True)"
   ]
  },
  {
   "cell_type": "code",
   "execution_count": 7,
   "metadata": {},
   "outputs": [
    {
     "name": "stdout",
     "output_type": "stream",
     "text": [
      "+--------------------+----------------+\n",
      "|  item_category_name|item_category_id|\n",
      "+--------------------+----------------+\n",
      "|PC - Гарнитуры/На...|               0|\n",
      "|    Аксессуары - PS2|               1|\n",
      "|    Аксессуары - PS3|               2|\n",
      "|    Аксессуары - PS4|               3|\n",
      "|    Аксессуары - PSP|               4|\n",
      "| Аксессуары - PSVita|               5|\n",
      "|Аксессуары - XBOX...|               6|\n",
      "|Аксессуары - XBOX...|               7|\n",
      "|      Билеты (Цифра)|               8|\n",
      "|     Доставка товара|               9|\n",
      "+--------------------+----------------+\n",
      "only showing top 10 rows\n",
      "\n",
      "+--------------------+-------+----------------+\n",
      "|           item_name|item_id|item_category_id|\n",
      "+--------------------+-------+----------------+\n",
      "|! ВО ВЛАСТИ НАВАЖ...|      0|              40|\n",
      "|!ABBYY FineReader...|      1|              76|\n",
      "|***В ЛУЧАХ СЛАВЫ ...|      2|              40|\n",
      "|***ГОЛУБАЯ ВОЛНА ...|      3|              40|\n",
      "|***КОРОБКА (СТЕКЛ...|      4|              40|\n",
      "|***НОВЫЕ АМЕРИКАН...|      5|              40|\n",
      "|***УДАР ПО ВОРОТА...|      6|              40|\n",
      "|***УДАР ПО ВОРОТА...|      7|              40|\n",
      "|***ЧАЙ С МУССОЛИН...|      8|              40|\n",
      "|***ШУГАРЛЭНДСКИЙ ...|      9|              40|\n",
      "+--------------------+-------+----------------+\n",
      "only showing top 10 rows\n",
      "\n",
      "+----------+--------------+-------+-------+----------+------------+\n",
      "|      date|date_block_num|shop_id|item_id|item_price|item_cnt_day|\n",
      "+----------+--------------+-------+-------+----------+------------+\n",
      "|02.01.2013|             0|     59|  22154|     999.0|         1.0|\n",
      "|03.01.2013|             0|     25|   2552|     899.0|         1.0|\n",
      "|05.01.2013|             0|     25|   2552|     899.0|        -1.0|\n",
      "|06.01.2013|             0|     25|   2554|   1709.05|         1.0|\n",
      "|15.01.2013|             0|     25|   2555|    1099.0|         1.0|\n",
      "|10.01.2013|             0|     25|   2564|     349.0|         1.0|\n",
      "|02.01.2013|             0|     25|   2565|     549.0|         1.0|\n",
      "|04.01.2013|             0|     25|   2572|     239.0|         1.0|\n",
      "|11.01.2013|             0|     25|   2572|     299.0|         1.0|\n",
      "|03.01.2013|             0|     25|   2573|     299.0|         3.0|\n",
      "+----------+--------------+-------+-------+----------+------------+\n",
      "only showing top 10 rows\n",
      "\n",
      "+---+-------+-------+\n",
      "| ID|shop_id|item_id|\n",
      "+---+-------+-------+\n",
      "|  0|      5|   5037|\n",
      "|  1|      5|   5320|\n",
      "|  2|      5|   5233|\n",
      "|  3|      5|   5232|\n",
      "|  4|      5|   5268|\n",
      "|  5|      5|   5039|\n",
      "|  6|      5|   5041|\n",
      "|  7|      5|   5046|\n",
      "|  8|      5|   5319|\n",
      "|  9|      5|   5003|\n",
      "+---+-------+-------+\n",
      "only showing top 10 rows\n",
      "\n",
      "+--------------------+-------+\n",
      "|           shop_name|shop_id|\n",
      "+--------------------+-------+\n",
      "|!Якутск Орджоники...|      0|\n",
      "|\"!Якутск ТЦ \"\"Цен...|      1|\n",
      "|\"Адыгея ТЦ \"\"Мега\"\"\"|      2|\n",
      "|\"Балашиха ТРК \"\"О...|      3|\n",
      "|\"Волжский ТЦ \"\"Во...|      4|\n",
      "|\"Вологда ТРЦ \"\"Ма...|      5|\n",
      "|Воронеж (Плеханов...|      6|\n",
      "|\"Воронеж ТРЦ \"\"Ма...|      7|\n",
      "|\"Воронеж ТРЦ Сити...|      8|\n",
      "|   Выездная Торговля|      9|\n",
      "+--------------------+-------+\n",
      "only showing top 10 rows\n",
      "\n"
     ]
    }
   ],
   "source": [
    "item_categoriesDf.show(10)\n",
    "itemsDf.show(10)\n",
    "sales_trainDf.show(10)\n",
    "sales_testDf.show(10)\n",
    "shopsDf.show(10)"
   ]
  },
  {
   "cell_type": "markdown",
   "metadata": {},
   "source": [
    "## Data types of various fields in the data frames"
   ]
  },
  {
   "cell_type": "markdown",
   "metadata": {},
   "source": [
    "Lets have a look at the data types of all the fields in our data frames."
   ]
  },
  {
   "cell_type": "code",
   "execution_count": 8,
   "metadata": {
    "scrolled": true
   },
   "outputs": [
    {
     "name": "stdout",
     "output_type": "stream",
     "text": [
      "item_categories datatypes: [('item_category_name', 'string'), ('item_category_id', 'int')]\n",
      "\n",
      "items datatypes: [('item_name', 'string'), ('item_id', 'string'), ('item_category_id', 'string')]\n",
      "\n",
      "sales_train datatypes: [('date', 'string'), ('date_block_num', 'int'), ('shop_id', 'int'), ('item_id', 'int'), ('item_price', 'double'), ('item_cnt_day', 'double')]\n",
      "\n",
      "sales_test datatypes: [('ID', 'int'), ('shop_id', 'int'), ('item_id', 'int')]\n",
      "\n",
      "shops datatypes: [('shop_name', 'string'), ('shop_id', 'int')]\n"
     ]
    }
   ],
   "source": [
    "print(\"item_categories datatypes: %s\" %item_categoriesDf.dtypes)\n",
    "print(\"\\nitems datatypes: %s\" %itemsDf.dtypes)\n",
    "print(\"\\nsales_train datatypes: %s\" %sales_trainDf.dtypes)\n",
    "print(\"\\nsales_test datatypes: %s\" %sales_testDf.dtypes)\n",
    "print(\"\\nshops datatypes: %s\" %shopsDf.dtypes)"
   ]
  },
  {
   "cell_type": "markdown",
   "metadata": {},
   "source": [
    "It can be seen that the datatype of date column in sales_train is string. I will convert in into the format YYYY-MM-DDD so that i can later order my data by the date."
   ]
  },
  {
   "cell_type": "code",
   "execution_count": 9,
   "metadata": {},
   "outputs": [],
   "source": [
    "sales_trainDf = sales_trainDf.withColumn('date',to_date(unix_timestamp(col('date'), 'dd.mm.yyyy').cast(\"timestamp\")))"
   ]
  },
  {
   "cell_type": "code",
   "execution_count": 10,
   "metadata": {},
   "outputs": [
    {
     "name": "stdout",
     "output_type": "stream",
     "text": [
      "+----------+--------------+-------+-------+----------+------------+\n",
      "|      date|date_block_num|shop_id|item_id|item_price|item_cnt_day|\n",
      "+----------+--------------+-------+-------+----------+------------+\n",
      "|2013-01-02|             0|     59|  22154|     999.0|         1.0|\n",
      "|2013-01-03|             0|     25|   2552|     899.0|         1.0|\n",
      "|2013-01-05|             0|     25|   2552|     899.0|        -1.0|\n",
      "|2013-01-06|             0|     25|   2554|   1709.05|         1.0|\n",
      "|2013-01-15|             0|     25|   2555|    1099.0|         1.0|\n",
      "+----------+--------------+-------+-------+----------+------------+\n",
      "only showing top 5 rows\n",
      "\n"
     ]
    }
   ],
   "source": [
    "sales_trainDf.show(5)"
   ]
  },
  {
   "cell_type": "markdown",
   "metadata": {},
   "source": [
    "## Combining dataframes"
   ]
  },
  {
   "cell_type": "markdown",
   "metadata": {},
   "source": [
    "To combine the information present in more 5 different dataframes, we can join the tables using the join function based on similar columns."
   ]
  },
  {
   "cell_type": "code",
   "execution_count": 11,
   "metadata": {},
   "outputs": [
    {
     "name": "stdout",
     "output_type": "stream",
     "text": [
      "+----------------+-------+-------+----------+--------------+----------+------------+--------------------+--------------------+--------------------+\n",
      "|item_category_id|shop_id|item_id|      date|date_block_num|item_price|item_cnt_day|           item_name|           shop_name|  item_category_name|\n",
      "+----------------+-------+-------+----------+--------------+----------+------------+--------------------+--------------------+--------------------+\n",
      "|              37|     59|  22154|2013-01-02|             0|     999.0|         1.0|   ЯВЛЕНИЕ 2012 (BD)|\"Ярославль ТЦ \"\"А...|      Кино - Blu-Ray|\n",
      "|              58|     25|   2552|2013-01-03|             0|     899.0|         1.0|DEEP PURPLE  The ...|\"Москва ТРК \"\"Атр...|      Музыка - Винил|\n",
      "|              58|     25|   2552|2013-01-05|             0|     899.0|        -1.0|DEEP PURPLE  The ...|\"Москва ТРК \"\"Атр...|      Музыка - Винил|\n",
      "|              58|     25|   2554|2013-01-06|             0|   1709.05|         1.0|DEEP PURPLE  Who ...|\"Москва ТРК \"\"Атр...|      Музыка - Винил|\n",
      "|              56|     25|   2555|2013-01-15|             0|    1099.0|         1.0|DEEP PURPLE 30 Ve...|\"Москва ТРК \"\"Атр...|Музыка - CD фирме...|\n",
      "|              59|     25|   2564|2013-01-10|             0|     349.0|         1.0|DEEP PURPLE Perih...|\"Москва ТРК \"\"Атр...|Музыка - Музыкаль...|\n",
      "|              56|     25|   2565|2013-01-02|             0|     549.0|         1.0|DEEP PURPLE Storm...|\"Москва ТРК \"\"Атр...|Музыка - CD фирме...|\n",
      "|              55|     25|   2572|2013-01-04|             0|     239.0|         1.0|DEFTONES  Koi No ...|\"Москва ТРК \"\"Атр...|Музыка - CD локал...|\n",
      "|              55|     25|   2572|2013-01-11|             0|     299.0|         1.0|DEFTONES  Koi No ...|\"Москва ТРК \"\"Атр...|Музыка - CD локал...|\n",
      "|              55|     25|   2573|2013-01-03|             0|     299.0|         3.0|DEL REY LANA  Bor...|\"Москва ТРК \"\"Атр...|Музыка - CD локал...|\n",
      "+----------------+-------+-------+----------+--------------+----------+------------+--------------------+--------------------+--------------------+\n",
      "only showing top 10 rows\n",
      "\n",
      "Total number of rows: 2925510\n"
     ]
    }
   ],
   "source": [
    "Sales_trainDf = sales_trainDf.join(itemsDf, on='item_id').join(shopsDf, on='shop_id').join(item_categoriesDf, on='item_category_id')\n",
    "Sales_trainDf.show(10)\n",
    "print(\"Total number of rows: %d\" %Sales_trainDf.count())"
   ]
  },
  {
   "cell_type": "markdown",
   "metadata": {},
   "source": [
    "This new table shows us all the information about each item. It shows that a certain item belonging to a certain category was sold by a certain shop on a specific date. <br>\n",
    "For our future sales prediction, the text based fields in our dataframe such as shop's names, item's names etc. are not so useful so it might be better if we drop these columns"
   ]
  },
  {
   "cell_type": "code",
   "execution_count": 12,
   "metadata": {},
   "outputs": [
    {
     "name": "stdout",
     "output_type": "stream",
     "text": [
      "+----------+--------------+-------+----------------+-------+----------+------------+\n",
      "|      date|date_block_num|shop_id|item_category_id|item_id|item_price|item_cnt_day|\n",
      "+----------+--------------+-------+----------------+-------+----------+------------+\n",
      "|2013-01-02|             0|     59|              37|  22154|     999.0|         1.0|\n",
      "|2013-01-03|             0|     25|              58|   2552|     899.0|         1.0|\n",
      "|2013-01-05|             0|     25|              58|   2552|     899.0|        -1.0|\n",
      "|2013-01-06|             0|     25|              58|   2554|   1709.05|         1.0|\n",
      "|2013-01-15|             0|     25|              56|   2555|    1099.0|         1.0|\n",
      "|2013-01-10|             0|     25|              59|   2564|     349.0|         1.0|\n",
      "|2013-01-02|             0|     25|              56|   2565|     549.0|         1.0|\n",
      "|2013-01-04|             0|     25|              55|   2572|     239.0|         1.0|\n",
      "|2013-01-11|             0|     25|              55|   2572|     299.0|         1.0|\n",
      "|2013-01-03|             0|     25|              55|   2573|     299.0|         3.0|\n",
      "+----------+--------------+-------+----------------+-------+----------+------------+\n",
      "only showing top 10 rows\n",
      "\n"
     ]
    }
   ],
   "source": [
    "Sales_trainDf = Sales_trainDf[['date', 'date_block_num', 'shop_id', 'item_category_id', 'item_id', 'item_price', 'item_cnt_day']]\n",
    "Sales_trainDf.show(10)"
   ]
  },
  {
   "cell_type": "code",
   "execution_count": 13,
   "metadata": {},
   "outputs": [
    {
     "name": "stdout",
     "output_type": "stream",
     "text": [
      "+----------+\n",
      "| min(date)|\n",
      "+----------+\n",
      "|2013-01-01|\n",
      "+----------+\n",
      "\n",
      "+----------+\n",
      "| max(date)|\n",
      "+----------+\n",
      "|2015-01-31|\n",
      "+----------+\n",
      "\n"
     ]
    }
   ],
   "source": [
    "Sales_trainDf.select(min(\"date\")).show(1)\n",
    "Sales_trainDf.select(max(\"date\")).show(1)"
   ]
  },
  {
   "cell_type": "markdown",
   "metadata": {},
   "source": [
    "In the above lines of codes it can be seen that the data spans over a period of 33 months. Therefore, we need to make sure that in this dataframe, no such item exists which is not present in our test data. All those items which are present in this dataframe but are not there in or test data are no longer availble in shops. Similarly, all those shops which are present here but are not there in our test data should also be removed because they might be closed during the course of 33 months."
   ]
  },
  {
   "cell_type": "code",
   "execution_count": 14,
   "metadata": {},
   "outputs": [
    {
     "name": "stdout",
     "output_type": "stream",
     "text": [
      "+-------+-------+----------+--------------+----------------+----------+------------+\n",
      "|shop_id|item_id|      date|date_block_num|item_category_id|item_price|item_cnt_day|\n",
      "+-------+-------+----------+--------------+----------------+----------+------------+\n",
      "|     59|  22154|2013-01-02|             0|              37|     999.0|         1.0|\n",
      "|     25|   2574|2013-01-03|             0|              55|     399.0|         2.0|\n",
      "|     25|   2574|2013-01-05|             0|              55|     399.0|         1.0|\n",
      "|     25|   2574|2013-01-07|             0|              55|     399.0|         1.0|\n",
      "|     25|   2574|2013-01-08|             0|              55|     399.0|         2.0|\n",
      "|     25|   2574|2013-01-10|             0|              55|     399.0|         1.0|\n",
      "|     25|   2574|2013-01-11|             0|              55|     399.0|         2.0|\n",
      "|     25|   2574|2013-01-13|             0|              55|     399.0|         1.0|\n",
      "|     25|   2574|2013-01-16|             0|              55|     399.0|         1.0|\n",
      "|     25|   2574|2013-01-26|             0|              55|     399.0|         1.0|\n",
      "+-------+-------+----------+--------------+----------------+----------+------------+\n",
      "only showing top 10 rows\n",
      "\n",
      "Total number of rows: 1221909\n"
     ]
    }
   ],
   "source": [
    "test_itemIdsDf = sales_testDf.select('item_id').distinct()\n",
    "test_shopIdsDf = sales_testDf.select('shop_id').distinct()\n",
    "Sales_trainDf = Sales_trainDf.join(test_itemIdsDf, on = \"item_id\").join(test_shopIdsDf, on = \"shop_id\")\n",
    "Sales_trainDf.show(10)\n",
    "print(\"Total number of rows: %d\" %Sales_trainDf.count())"
   ]
  },
  {
   "cell_type": "markdown",
   "metadata": {},
   "source": [
    "It can be seen that initially we had 2925510 rows but now our data has been reduced to 1221909 rows"
   ]
  },
  {
   "cell_type": "markdown",
   "metadata": {},
   "source": [
    "In order to calculate some usefule features that mighthelp me in implementing my regression model, I have applied some sql queries to the dataframe."
   ]
  },
  {
   "cell_type": "code",
   "execution_count": 15,
   "metadata": {},
   "outputs": [],
   "source": [
    "Sales_trainDf.createOrReplaceTempView(\"sales\")\n"
   ]
  },
  {
   "cell_type": "code",
   "execution_count": 16,
   "metadata": {},
   "outputs": [
    {
     "name": "stdout",
     "output_type": "stream",
     "text": [
      "+-------+-------+--------------+----------------+----------------+------------+------------+------------------+------------+\n",
      "|shop_id|item_id|date_block_num|item_category_id|averageItemPrice|sumItemPrice|sumItemCount|     meanItemCount|transactions|\n",
      "+-------+-------+--------------+----------------+----------------+------------+------------+------------------+------------+\n",
      "|     59|  22154|             0|              37|           999.0|       999.0|         1.0|               1.0|           1|\n",
      "|     25|   2574|             0|              55|           399.0|      3990.0|        13.0|               1.3|          10|\n",
      "|     25|   2607|             0|              55|           279.0|       558.0|         2.0|               1.0|           2|\n",
      "|     25|   2614|             0|              55|           299.0|       598.0|         2.0|               1.0|           2|\n",
      "|     25|   2808|             0|              30|           999.0|     17982.0|        30.0|1.6666666666666667|          18|\n",
      "|     25|   2703|             0|              30|           599.0|      5990.0|        10.0|               1.0|          10|\n",
      "|     25|   2088|             0|              58|          1299.0|      1299.0|         1.0|               1.0|           1|\n",
      "|     25|   2090|             0|              55|           449.0|       898.0|         2.0|               1.0|           2|\n",
      "|     25|   2100|             0|              55|           299.0|       299.0|         1.0|               1.0|           1|\n",
      "|     25|   2164|             0|              58|           899.0|       899.0|         1.0|               1.0|           1|\n",
      "|     25|   2252|             0|              30|           599.0|      4193.0|         7.0|               1.0|           7|\n",
      "|     25|   2254|             0|              23|          2199.0|      2199.0|         1.0|               1.0|           1|\n",
      "|     25|   2461|             0|              55|           399.0|       399.0|         1.0|               1.0|           1|\n",
      "|     25|   2678|             0|              23|         998.875|      3995.5|         6.0|               1.5|           4|\n",
      "|     25|   2416|             0|              30|           449.0|      3592.0|         8.0|               1.0|           8|\n",
      "|     25|   2235|             0|              49|           399.0|       399.0|         1.0|               1.0|           1|\n",
      "|     25|   3168|             0|              55|           299.0|       299.0|         1.0|               1.0|           1|\n",
      "|     25|   3268|             0|              55|           299.0|       299.0|         1.0|               1.0|           1|\n",
      "|     25|   3394|             0|              23|          1999.0|      3998.0|         2.0|               1.0|           2|\n",
      "|     25|   3141|             0|              75|          1130.0|      2260.0|         2.0|               1.0|           2|\n",
      "+-------+-------+--------------+----------------+----------------+------------+------------+------------------+------------+\n",
      "only showing top 20 rows\n",
      "\n"
     ]
    }
   ],
   "source": [
    "featuresDf = spark.sql(\"Select shop_id,item_id,date_block_num,item_category_id,avg(item_price) as averageItemPrice,sum(item_price) as sumItemPrice, sum(item_cnt_day) as sumItemCount, avg(item_cnt_day) as meanItemCount,count(item_cnt_day) as transactions from sales group by shop_id,item_id,date_block_num,item_category_id\")\n",
    "featuresDf.show()"
   ]
  },
  {
   "cell_type": "markdown",
   "metadata": {},
   "source": [
    "#### Fields in the dataframe featuresDf"
   ]
  },
  {
   "cell_type": "markdown",
   "metadata": {},
   "source": [
    "1. shop_id: The identifier of a shop\n",
    "2. item_id: The identifier of an item\n",
    "3. date_block_num: month block in which transaction took place (0 means the transaction tookplace in Jan 2013\n",
    "4. item_category_id: The identifier of item category\n",
    "5. averageItemPrice: The average item price of all the items belonging to one group. For example, in the first row, <br>\n",
    "   the average price of all the items with item_id of 7856 sold by the shop with shop_id 18 in Jan 2013 is 767\n",
    "6. sumItemPrice: The sum of the prices of all the items belonging to one group. For example, in the first row, <br>\n",
    "   the sum of the prices of all the items with item_id of 7856 sold by the shop with shop_id 18 in Jan 2013 is 7670\n",
    "7. sumItemCount: It is basically the total number of items sold belonging to one group. For example, in the first row, <br>\n",
    "   the total number of items of item_id 7856 sold by the shop with shop_id 18 in Jan 2013 is 13.\n",
    "8. meanItemCount: It is basically the mean of the items sold in each transaction. For example, in the first row <br>\n",
    "   the meanItemCount is 1.3 which means that in each transation, an average of 1.3 items were sold\n",
    "9. transaction: The total number of transactions of a certain group. It must be noted that the transactionscan be less <br>\n",
    "   sumItemCount beacuse more than 1 items can be sold per transaction."
   ]
  },
  {
   "cell_type": "code",
   "execution_count": 17,
   "metadata": {},
   "outputs": [],
   "source": [
    "featuresDf.createOrReplaceTempView(\"features\")"
   ]
  },
  {
   "cell_type": "code",
   "execution_count": 18,
   "metadata": {},
   "outputs": [
    {
     "name": "stdout",
     "output_type": "stream",
     "text": [
      "+-------+-------+--------------+----------------+----------------+------------+------------+------------------+------------+\n",
      "|shop_id|item_id|date_block_num|item_category_id|averageItemPrice|sumItemPrice|sumItemCount|     meanItemCount|transactions|\n",
      "+-------+-------+--------------+----------------+----------------+------------+------------+------------------+------------+\n",
      "|     59|  22154|             0|              37|           999.0|       999.0|         1.0|               1.0|           1|\n",
      "|     25|   2574|             0|              55|           399.0|      3990.0|        13.0|               1.3|          10|\n",
      "|     25|   2607|             0|              55|           279.0|       558.0|         2.0|               1.0|           2|\n",
      "|     25|   2614|             0|              55|           299.0|       598.0|         2.0|               1.0|           2|\n",
      "|     25|   2808|             0|              30|           999.0|     17982.0|        30.0|1.6666666666666667|          18|\n",
      "|     25|   2703|             0|              30|           599.0|      5990.0|        10.0|               1.0|          10|\n",
      "|     25|   2088|             0|              58|          1299.0|      1299.0|         1.0|               1.0|           1|\n",
      "+-------+-------+--------------+----------------+----------------+------------+------------+------------------+------------+\n",
      "only showing top 7 rows\n",
      "\n"
     ]
    }
   ],
   "source": [
    "spark.sql(\"select * from features\").show(7)"
   ]
  },
  {
   "cell_type": "markdown",
   "metadata": {},
   "source": [
    "Since the data I am working on is of various software firms, it might be posssible that in future, a certain shop starts selling an item which it was previously not selling. To make a dataframe of all the combinations of shops and items, I created three RDDs of shopIds, itemIds and dateblocks, took their cartesian product and finally formed a new dataframe with my resultant rdd."
   ]
  },
  {
   "cell_type": "code",
   "execution_count": 19,
   "metadata": {},
   "outputs": [
    {
     "name": "stdout",
     "output_type": "stream",
     "text": [
      "6697320\n"
     ]
    }
   ],
   "source": [
    "shopIds = featuresDf.select('shop_id').distinct().collect()\n",
    "itemIds = featuresDf.select('item_id').distinct().collect()\n",
    "dateBlock = range(0,34)\n",
    "\n",
    "shopIdsRdd = sc.parallelize(shopIds)\n",
    "itemIdsRdd = sc.parallelize(itemIds)\n",
    "dateBlockRdd = sc.parallelize(dateBlock)\n",
    "\n",
    "possiblePairRdd = shopIdsRdd.cartesian(itemIdsRdd).cartesian(dateBlockRdd).map(lambda x: (x[0][0].__getitem__('shop_id'),x[0][1].__getitem__('item_id'),x[1]))\n",
    "print(possiblePairRdd.count())"
   ]
  },
  {
   "cell_type": "code",
   "execution_count": 20,
   "metadata": {},
   "outputs": [
    {
     "data": {
      "text/plain": [
       "[(59, 22154, 0), (59, 2574, 0), (59, 2607, 0), (59, 2614, 0), (59, 2808, 0)]"
      ]
     },
     "execution_count": 20,
     "metadata": {},
     "output_type": "execute_result"
    }
   ],
   "source": [
    "possiblePairRdd.take(5)"
   ]
  },
  {
   "cell_type": "code",
   "execution_count": 21,
   "metadata": {},
   "outputs": [],
   "source": [
    "possiblePairDf = possiblePairRdd.toDF(['shop_id','item_id','date_block_num'])"
   ]
  },
  {
   "cell_type": "code",
   "execution_count": 22,
   "metadata": {},
   "outputs": [
    {
     "name": "stdout",
     "output_type": "stream",
     "text": [
      "+-------+-------+--------------+\n",
      "|shop_id|item_id|date_block_num|\n",
      "+-------+-------+--------------+\n",
      "|     59|  22154|             0|\n",
      "|     59|   2574|             0|\n",
      "|     59|   2607|             0|\n",
      "|     59|   2614|             0|\n",
      "|     59|   2808|             0|\n",
      "|     59|   2703|             0|\n",
      "|     59|   2088|             0|\n",
      "|     59|   2090|             0|\n",
      "|     59|   2100|             0|\n",
      "|     59|   2164|             0|\n",
      "|     59|   2252|             0|\n",
      "|     59|   2254|             0|\n",
      "|     59|   2461|             0|\n",
      "|     59|   2678|             0|\n",
      "|     59|   2416|             0|\n",
      "|     59|   2235|             0|\n",
      "|     59|   3168|             0|\n",
      "|     59|   3268|             0|\n",
      "|     59|   3394|             0|\n",
      "|     59|   3141|             0|\n",
      "+-------+-------+--------------+\n",
      "only showing top 20 rows\n",
      "\n"
     ]
    },
    {
     "data": {
      "text/plain": [
       "6697320"
      ]
     },
     "execution_count": 22,
     "metadata": {},
     "output_type": "execute_result"
    }
   ],
   "source": [
    "possiblePairDf.show()\n",
    "possiblePairDf.count()"
   ]
  },
  {
   "cell_type": "code",
   "execution_count": 23,
   "metadata": {},
   "outputs": [
    {
     "name": "stdout",
     "output_type": "stream",
     "text": [
      "+-------+-------+--------------+\n",
      "|shop_id|item_id|date_block_num|\n",
      "+-------+-------+--------------+\n",
      "|     59|  22154|             0|\n",
      "|     59|   2574|             0|\n",
      "|     59|   2607|             0|\n",
      "|     59|   2614|             0|\n",
      "|     59|   2808|             0|\n",
      "|     59|   2703|             0|\n",
      "|     59|   2088|             0|\n",
      "|     59|   2090|             0|\n",
      "|     59|   2100|             0|\n",
      "|     59|   2164|             0|\n",
      "|     59|   2252|             0|\n",
      "|     59|   2254|             0|\n",
      "|     59|   2461|             0|\n",
      "|     59|   2678|             0|\n",
      "|     59|   2416|             0|\n",
      "|     59|   2235|             0|\n",
      "|     59|   3168|             0|\n",
      "|     59|   3268|             0|\n",
      "|     59|   3394|             0|\n",
      "|     59|   3141|             0|\n",
      "+-------+-------+--------------+\n",
      "only showing top 20 rows\n",
      "\n"
     ]
    }
   ],
   "source": [
    "possiblePairDf.show()"
   ]
  },
  {
   "cell_type": "markdown",
   "metadata": {},
   "source": [
    "Now I can join this data fram with my featuresDf. Here I am setting all the values that will be used in my regression model to 0 rather than leaving them null"
   ]
  },
  {
   "cell_type": "code",
   "execution_count": 24,
   "metadata": {},
   "outputs": [
    {
     "name": "stdout",
     "output_type": "stream",
     "text": [
      "+--------------+-------+-------+----------------+----------------+------------+------------+-------------+------------+\n",
      "|date_block_num|shop_id|item_id|item_category_id|averageItemPrice|sumItemPrice|sumItemCount|meanItemCount|transactions|\n",
      "+--------------+-------+-------+----------------+----------------+------------+------------+-------------+------------+\n",
      "|             0|      2|    656|            null|             0.0|         0.0|         0.0|          0.0|           0|\n",
      "|             0|      2|    784|            null|             0.0|         0.0|         0.0|          0.0|           0|\n",
      "|             0|      2|   1409|              19|          1398.5|      1398.5|         1.0|          1.0|           1|\n",
      "|             0|      2|   1988|            null|             0.0|         0.0|         0.0|          0.0|           0|\n",
      "|             0|      2|   2191|            null|             0.0|         0.0|         0.0|          0.0|           0|\n",
      "|             0|      2|   2283|            null|             0.0|         0.0|         0.0|          0.0|           0|\n",
      "|             0|      2|   2856|            null|             0.0|         0.0|         0.0|          0.0|           0|\n",
      "|             0|      2|   3082|            null|             0.0|         0.0|         0.0|          0.0|           0|\n",
      "|             0|      2|   3444|            null|             0.0|         0.0|         0.0|          0.0|           0|\n",
      "|             0|      2|   4191|            null|             0.0|         0.0|         0.0|          0.0|           0|\n",
      "|             0|      2|   4316|            null|             0.0|         0.0|         0.0|          0.0|           0|\n",
      "|             0|      2|   4946|            null|             0.0|         0.0|         0.0|          0.0|           0|\n",
      "|             0|      2|   6345|            null|             0.0|         0.0|         0.0|          0.0|           0|\n",
      "|             0|      2|   6356|            null|             0.0|         0.0|         0.0|          0.0|           0|\n",
      "|             0|      2|   6625|            null|             0.0|         0.0|         0.0|          0.0|           0|\n",
      "|             0|      2|   6888|            null|             0.0|         0.0|         0.0|          0.0|           0|\n",
      "|             0|      2|   7071|            null|             0.0|         0.0|         0.0|          0.0|           0|\n",
      "|             0|      2|   7930|            null|             0.0|         0.0|         0.0|          0.0|           0|\n",
      "|             0|      2|   9165|            null|             0.0|         0.0|         0.0|          0.0|           0|\n",
      "|             0|      2|  13340|            null|             0.0|         0.0|         0.0|          0.0|           0|\n",
      "+--------------+-------+-------+----------------+----------------+------------+------------+-------------+------------+\n",
      "only showing top 20 rows\n",
      "\n"
     ]
    }
   ],
   "source": [
    "featuresDf = possiblePairDf.join(featuresDf, on=['date_block_num','shop_id','item_id'], how='left')\n",
    "featuresDf = featuresDf.fillna(0, subset=['averageItemPrice', 'sumItemPrice', 'sumItemCount', 'meanItemCount','transactions'])\n",
    "featuresDf.show()"
   ]
  },
  {
   "cell_type": "code",
   "execution_count": 25,
   "metadata": {},
   "outputs": [
    {
     "data": {
      "text/plain": [
       "6697320"
      ]
     },
     "execution_count": 25,
     "metadata": {},
     "output_type": "execute_result"
    }
   ],
   "source": [
    "featuresDf.count()"
   ]
  },
  {
   "cell_type": "code",
   "execution_count": 28,
   "metadata": {},
   "outputs": [
    {
     "name": "stdout",
     "output_type": "stream",
     "text": [
      "+-------+----------------+--------------+-------+----------------+------------+------------+-------------+------------+\n",
      "|item_id|item_category_id|date_block_num|shop_id|averageItemPrice|sumItemPrice|sumItemCount|meanItemCount|transactions|\n",
      "+-------+----------------+--------------+-------+----------------+------------+------------+-------------+------------+\n",
      "|    656|            null|             0|      2|             0.0|         0.0|         0.0|          0.0|           0|\n",
      "|    784|            null|             0|      2|             0.0|         0.0|         0.0|          0.0|           0|\n",
      "|   1409|              19|             0|      2|          1398.5|      1398.5|         1.0|          1.0|           1|\n",
      "|   1988|            null|             0|      2|             0.0|         0.0|         0.0|          0.0|           0|\n",
      "|   2191|            null|             0|      2|             0.0|         0.0|         0.0|          0.0|           0|\n",
      "+-------+----------------+--------------+-------+----------------+------------+------------+-------------+------------+\n",
      "only showing top 5 rows\n",
      "\n"
     ]
    },
    {
     "data": {
      "text/plain": [
       "6697320"
      ]
     },
     "execution_count": 28,
     "metadata": {},
     "output_type": "execute_result"
    }
   ],
   "source": [
    "xDf = featuresDf.join(itemsDf.drop('item_name'), on =['item_id','item_category_id'], how = 'left')\n",
    "xDf.show(5)\n",
    "xDf.count()"
   ]
  },
  {
   "cell_type": "code",
   "execution_count": 29,
   "metadata": {},
   "outputs": [
    {
     "name": "stdout",
     "output_type": "stream",
     "text": [
      "+-------+-----------------+------------------+------------------+------------------+-----------------+-----------------+-------------------+-------------------+-------------------+\n",
      "|summary|   date_block_num|           shop_id|           item_id|  item_category_id| averageItemPrice|     sumItemPrice|       sumItemCount|      meanItemCount|       transactions|\n",
      "+-------+-----------------+------------------+------------------+------------------+-----------------+-----------------+-------------------+-------------------+-------------------+\n",
      "|  count|          6697320|           6697320|           6697320|            599279|          6697320|          6697320|            6697320|            6697320|            6697320|\n",
      "|   mean|             16.5|31.642857142857142|11062.818763326226| 42.50588790863688|81.54443559747342|188.0900024715003|0.24090412284316712|0.09767599494245824|0.18244745659457812|\n",
      "| stddev|9.810709167609772| 17.56189380671925| 6199.583010722853|17.745794446372308|536.0037535892299|2183.014357263569| 3.4631055405283298|  0.613641729332205| 0.9059670607880855|\n",
      "|    min|                0|                 2|                30|                11|              0.0|              0.0|               -4.0|               -2.0|                  0|\n",
      "|    max|               33|                59|             22167|                 9|          42990.0|   515573.5897436|             2253.0|             1000.0|                 31|\n",
      "+-------+-----------------+------------------+------------------+------------------+-----------------+-----------------+-------------------+-------------------+-------------------+\n",
      "\n"
     ]
    }
   ],
   "source": [
    "featuresDf.describe().show()"
   ]
  },
  {
   "cell_type": "code",
   "execution_count": 26,
   "metadata": {},
   "outputs": [
    {
     "name": "stdout",
     "output_type": "stream",
     "text": [
      "+--------------+-------+-------+----------------+----------------+------------+------------+-------------+------------+-----+----+\n",
      "|date_block_num|shop_id|item_id|item_category_id|averageItemPrice|sumItemPrice|sumItemCount|meanItemCount|transactions|month|year|\n",
      "+--------------+-------+-------+----------------+----------------+------------+------------+-------------+------------+-----+----+\n",
      "|             0|      2|    656|            null|             0.0|         0.0|         0.0|          0.0|           0|    1|2013|\n",
      "|             0|      2|    784|            null|             0.0|         0.0|         0.0|          0.0|           0|    1|2013|\n",
      "|             0|      2|   1409|              19|          1398.5|      1398.5|         1.0|          1.0|           1|    1|2013|\n",
      "|             0|      2|   1988|            null|             0.0|         0.0|         0.0|          0.0|           0|    1|2013|\n",
      "|             0|      2|   2191|            null|             0.0|         0.0|         0.0|          0.0|           0|    1|2013|\n",
      "|             0|      2|   2283|            null|             0.0|         0.0|         0.0|          0.0|           0|    1|2013|\n",
      "|             0|      2|   2856|            null|             0.0|         0.0|         0.0|          0.0|           0|    1|2013|\n",
      "|             0|      2|   3082|            null|             0.0|         0.0|         0.0|          0.0|           0|    1|2013|\n",
      "|             0|      2|   3444|            null|             0.0|         0.0|         0.0|          0.0|           0|    1|2013|\n",
      "|             0|      2|   4191|            null|             0.0|         0.0|         0.0|          0.0|           0|    1|2013|\n",
      "+--------------+-------+-------+----------------+----------------+------------+------------+-------------+------------+-----+----+\n",
      "only showing top 10 rows\n",
      "\n"
     ]
    }
   ],
   "source": [
    "monthCalculator = F.udf(lambda x: (x % 12)+1, IntegerType())\n",
    "yearCalculator = F.udf(lambda x: ((x//12) + 2013), IntegerType())\n",
    "featuresDf = featuresDf.withColumn(\"month\", monthCalculator(featuresDf.date_block_num))\n",
    "featuresDf = featuresDf.withColumn(\"year\", yearCalculator(featuresDf.date_block_num))\n",
    "\n",
    "featuresDf.show(10)"
   ]
  },
  {
   "cell_type": "code",
   "execution_count": 31,
   "metadata": {},
   "outputs": [
    {
     "name": "stdout",
     "output_type": "stream",
     "text": [
      "total number of rows: 6697320\n"
     ]
    }
   ],
   "source": [
    "print(\"total number of rows: %d\" %featuresDf.count())"
   ]
  },
  {
   "cell_type": "markdown",
   "metadata": {},
   "source": [
    "### Exception Handling"
   ]
  },
  {
   "cell_type": "markdown",
   "metadata": {},
   "source": [
    "For execption handing, I removed all the data where sum of the number of items was negative or where price was greater than 400000"
   ]
  },
  {
   "cell_type": "code",
   "execution_count": 27,
   "metadata": {},
   "outputs": [
    {
     "name": "stdout",
     "output_type": "stream",
     "text": [
      "+--------------+-------+-------+----------------+----------------+------------+------------+-------------+------------+-----+----+\n",
      "|date_block_num|shop_id|item_id|item_category_id|averageItemPrice|sumItemPrice|sumItemCount|meanItemCount|transactions|month|year|\n",
      "+--------------+-------+-------+----------------+----------------+------------+------------+-------------+------------+-----+----+\n",
      "|             0|      2|    656|            null|             0.0|         0.0|         0.0|          0.0|           0|    1|2013|\n",
      "|             0|      2|    784|            null|             0.0|         0.0|         0.0|          0.0|           0|    1|2013|\n",
      "|             0|      2|   1409|              19|          1398.5|      1398.5|         1.0|          1.0|           1|    1|2013|\n",
      "|             0|      2|   1988|            null|             0.0|         0.0|         0.0|          0.0|           0|    1|2013|\n",
      "|             0|      2|   2191|            null|             0.0|         0.0|         0.0|          0.0|           0|    1|2013|\n",
      "|             0|      2|   2283|            null|             0.0|         0.0|         0.0|          0.0|           0|    1|2013|\n",
      "|             0|      2|   2856|            null|             0.0|         0.0|         0.0|          0.0|           0|    1|2013|\n",
      "|             0|      2|   3082|            null|             0.0|         0.0|         0.0|          0.0|           0|    1|2013|\n",
      "|             0|      2|   3444|            null|             0.0|         0.0|         0.0|          0.0|           0|    1|2013|\n",
      "|             0|      2|   4191|            null|             0.0|         0.0|         0.0|          0.0|           0|    1|2013|\n",
      "|             0|      2|   4316|            null|             0.0|         0.0|         0.0|          0.0|           0|    1|2013|\n",
      "|             0|      2|   4946|            null|             0.0|         0.0|         0.0|          0.0|           0|    1|2013|\n",
      "|             0|      2|   6345|            null|             0.0|         0.0|         0.0|          0.0|           0|    1|2013|\n",
      "|             0|      2|   6356|            null|             0.0|         0.0|         0.0|          0.0|           0|    1|2013|\n",
      "|             0|      2|   6625|            null|             0.0|         0.0|         0.0|          0.0|           0|    1|2013|\n",
      "|             0|      2|   6888|            null|             0.0|         0.0|         0.0|          0.0|           0|    1|2013|\n",
      "|             0|      2|   7071|            null|             0.0|         0.0|         0.0|          0.0|           0|    1|2013|\n",
      "|             0|      2|   7930|            null|             0.0|         0.0|         0.0|          0.0|           0|    1|2013|\n",
      "|             0|      2|   9165|            null|             0.0|         0.0|         0.0|          0.0|           0|    1|2013|\n",
      "|             0|      2|  13340|            null|             0.0|         0.0|         0.0|          0.0|           0|    1|2013|\n",
      "+--------------+-------+-------+----------------+----------------+------------+------------+-------------+------------+-----+----+\n",
      "only showing top 20 rows\n",
      "\n",
      "total number of rows: 6697058\n"
     ]
    }
   ],
   "source": [
    "featuresDf = featuresDf.filter('sumItemCount >= 0 and sumItemPrice < 400000')\n",
    "featuresDf.show()\n",
    "print(\"total number of rows: %d\" %featuresDf.count())"
   ]
  },
  {
   "cell_type": "code",
   "execution_count": 28,
   "metadata": {},
   "outputs": [],
   "source": [
    "newFeaturesDf = featuresDf"
   ]
  },
  {
   "cell_type": "markdown",
   "metadata": {},
   "source": [
    "It can be seen that the data has been reduced from 6697320 rows to 6693610"
   ]
  },
  {
   "cell_type": "markdown",
   "metadata": {},
   "source": [
    "## Finalizing Features"
   ]
  },
  {
   "cell_type": "markdown",
   "metadata": {},
   "source": [
    "As implemeted below, I have added some more useful features including the itemsales of the past three month in each group."
   ]
  },
  {
   "cell_type": "code",
   "execution_count": 29,
   "metadata": {},
   "outputs": [],
   "source": [
    "newFeaturesDf = newFeaturesDf.withColumn(\"item_cnt_month\", F.lag(\"sumItemCount\",1).over(Window.partitionBy(\"shop_id\", \"item_id\").orderBy(\"date_block_num\")))\n",
    "newFeaturesDf = newFeaturesDf.withColumn('item_cnt_mean', F.avg('sumItemCount').over(Window.partitionBy(\"shop_id\", \"item_category_id\", \"item_id\").orderBy(\"date_block_num\").rangeBetween(-2,0)))\n",
    "newFeaturesDf = newFeaturesDf.withColumn('item_cnt_std', F.stddev('sumItemCount').over(Window.partitionBy(\"shop_id\", \"item_category_id\", \"item_id\").orderBy(\"date_block_num\").rangeBetween(-2,0)))\n",
    "newFeaturesDf = newFeaturesDf.withColumn(\"item_cnt_month_prev1\", F.lag(\"sumItemCount\",1).over(Window.partitionBy(\"shop_id\", \"item_category_id\", \"item_id\").orderBy(\"date_block_num\")))\n",
    "newFeaturesDf = newFeaturesDf.withColumn(\"item_cnt_month_prev2\", F.lag(\"sumItemCount\",2).over(Window.partitionBy(\"shop_id\", \"item_category_id\", \"item_id\").orderBy(\"date_block_num\")))\n",
    "newFeaturesDf = newFeaturesDf.withColumn(\"item_cnt_month_prev3\", F.lag(\"sumItemCount\",3).over(Window.partitionBy(\"shop_id\", \"item_category_id\", \"item_id\").orderBy(\"date_block_num\")))\n",
    "newFeaturesDf = newFeaturesDf.fillna(0)"
   ]
  },
  {
   "cell_type": "code",
   "execution_count": 30,
   "metadata": {},
   "outputs": [
    {
     "name": "stdout",
     "output_type": "stream",
     "text": [
      "+--------------+-------+-------+----------------+----------------+------------+------------+-------------+------------+-----+----+--------------+-------------+------------+--------------------+--------------------+--------------------+\n",
      "|date_block_num|shop_id|item_id|item_category_id|averageItemPrice|sumItemPrice|sumItemCount|meanItemCount|transactions|month|year|item_cnt_month|item_cnt_mean|item_cnt_std|item_cnt_month_prev1|item_cnt_month_prev2|item_cnt_month_prev3|\n",
      "+--------------+-------+-------+----------------+----------------+------------+------------+-------------+------------+-----+----+--------------+-------------+------------+--------------------+--------------------+--------------------+\n",
      "|             0|      2|   3239|            null|             0.0|         0.0|         0.0|          0.0|           0|    1|2013|           0.0|          0.0|         0.0|                 0.0|                 0.0|                 0.0|\n",
      "|             1|      2|   3239|            null|             0.0|         0.0|         0.0|          0.0|           0|    2|2013|           0.0|          0.0|         0.0|                 0.0|                 0.0|                 0.0|\n",
      "|             2|      2|   3239|            null|             0.0|         0.0|         0.0|          0.0|           0|    3|2013|           0.0|          0.0|         0.0|                 0.0|                 0.0|                 0.0|\n",
      "|             3|      2|   3239|            null|             0.0|         0.0|         0.0|          0.0|           0|    4|2013|           0.0|          0.0|         0.0|                 0.0|                 0.0|                 0.0|\n",
      "|             4|      2|   3239|            null|             0.0|         0.0|         0.0|          0.0|           0|    5|2013|           0.0|          0.0|         0.0|                 0.0|                 0.0|                 0.0|\n",
      "|             5|      2|   3239|            null|             0.0|         0.0|         0.0|          0.0|           0|    6|2013|           0.0|          0.0|         0.0|                 0.0|                 0.0|                 0.0|\n",
      "|             6|      2|   3239|            null|             0.0|         0.0|         0.0|          0.0|           0|    7|2013|           0.0|          0.0|         0.0|                 0.0|                 0.0|                 0.0|\n",
      "|             7|      2|   3239|            null|             0.0|         0.0|         0.0|          0.0|           0|    8|2013|           0.0|          0.0|         0.0|                 0.0|                 0.0|                 0.0|\n",
      "|             8|      2|   3239|            null|             0.0|         0.0|         0.0|          0.0|           0|    9|2013|           0.0|          0.0|         0.0|                 0.0|                 0.0|                 0.0|\n",
      "|             9|      2|   3239|            null|             0.0|         0.0|         0.0|          0.0|           0|   10|2013|           0.0|          0.0|         0.0|                 0.0|                 0.0|                 0.0|\n",
      "|            10|      2|   3239|            null|             0.0|         0.0|         0.0|          0.0|           0|   11|2013|           0.0|          0.0|         0.0|                 0.0|                 0.0|                 0.0|\n",
      "|            11|      2|   3239|            null|             0.0|         0.0|         0.0|          0.0|           0|   12|2013|           0.0|          0.0|         0.0|                 0.0|                 0.0|                 0.0|\n",
      "|            12|      2|   3239|            null|             0.0|         0.0|         0.0|          0.0|           0|    1|2014|           0.0|          0.0|         0.0|                 0.0|                 0.0|                 0.0|\n",
      "|            13|      2|   3239|            null|             0.0|         0.0|         0.0|          0.0|           0|    2|2014|           0.0|          0.0|         0.0|                 0.0|                 0.0|                 0.0|\n",
      "|            14|      2|   3239|            null|             0.0|         0.0|         0.0|          0.0|           0|    3|2014|           0.0|          0.0|         0.0|                 0.0|                 0.0|                 0.0|\n",
      "|            15|      2|   3239|            null|             0.0|         0.0|         0.0|          0.0|           0|    4|2014|           0.0|          0.0|         0.0|                 0.0|                 0.0|                 0.0|\n",
      "|            16|      2|   3239|            null|             0.0|         0.0|         0.0|          0.0|           0|    5|2014|           0.0|          0.0|         0.0|                 0.0|                 0.0|                 0.0|\n",
      "|            17|      2|   3239|            null|             0.0|         0.0|         0.0|          0.0|           0|    6|2014|           0.0|          0.0|         0.0|                 0.0|                 0.0|                 0.0|\n",
      "|            18|      2|   3239|            null|             0.0|         0.0|         0.0|          0.0|           0|    7|2014|           0.0|          0.0|         0.0|                 0.0|                 0.0|                 0.0|\n",
      "|            19|      2|   3239|            null|             0.0|         0.0|         0.0|          0.0|           0|    8|2014|           0.0|          0.0|         0.0|                 0.0|                 0.0|                 0.0|\n",
      "+--------------+-------+-------+----------------+----------------+------------+------------+-------------+------------+-----+----+--------------+-------------+------------+--------------------+--------------------+--------------------+\n",
      "only showing top 20 rows\n",
      "\n"
     ]
    }
   ],
   "source": [
    "newFeaturesDf.show()"
   ]
  },
  {
   "cell_type": "markdown",
   "metadata": {},
   "source": [
    "Now let's split the data into train, validation and test sets."
   ]
  },
  {
   "cell_type": "code",
   "execution_count": 31,
   "metadata": {},
   "outputs": [
    {
     "name": "stdout",
     "output_type": "stream",
     "text": [
      "Size of the Train set: 4924310\n",
      "Size of the Validation set: 984844\n",
      "Size of the test set: 196973\n"
     ]
    }
   ],
   "source": [
    "train_set = newFeaturesDf.filter(newFeaturesDf['date_block_num'] >= 3).filter(newFeaturesDf['date_block_num'] < 28) \n",
    "validation_set = newFeaturesDf.filter(newFeaturesDf['date_block_num'] >= 28).filter(newFeaturesDf['date_block_num'] < 33)\n",
    "test_set = newFeaturesDf.filter(newFeaturesDf['date_block_num'] == 33)\n",
    "train_set.dropna(subset=['item_cnt_month'])\n",
    "validation_set.dropna(subset=['item_cnt_month'])\n",
    "train_set.dropna()\n",
    "validation_set.dropna()\n",
    "totalsize = newFeaturesDf.count()\n",
    "trainsize = train_set.count()\n",
    "validsize = validation_set.count()\n",
    "testsize = test_set.count()\n",
    "print('Size of the Train set: %d' %trainsize)\n",
    "print('Size of the Validation set: %d' %validsize)\n",
    "print('Size of the test set: %d' %testsize)"
   ]
  },
  {
   "cell_type": "markdown",
   "metadata": {},
   "source": [
    "To improve my results, I have added more features like the total number of items sold by each shop and total items sold each month"
   ]
  },
  {
   "cell_type": "code",
   "execution_count": 32,
   "metadata": {},
   "outputs": [
    {
     "name": "stdout",
     "output_type": "stream",
     "text": [
      "+--------------+-------+-------+----------------+----------------+------------+------------+-------------+------------+-----+----+--------------+-------------+------------+--------------------+--------------------+--------------------+-------------------+---------------+\n",
      "|date_block_num|shop_id|item_id|item_category_id|averageItemPrice|sumItemPrice|sumItemCount|meanItemCount|transactions|month|year|item_cnt_month|item_cnt_mean|item_cnt_std|item_cnt_month_prev1|item_cnt_month_prev2|item_cnt_month_prev3|     itemByShopMean|monthlyItemMean|\n",
      "+--------------+-------+-------+----------------+----------------+------------+------------+-------------+------------+-----+----+--------------+-------------+------------+--------------------+--------------------+--------------------+-------------------+---------------+\n",
      "|            33|     26|    474|            null|             0.0|         0.0|         0.0|          0.0|           0|   10|2015|           0.0|          0.0|         0.0|                 0.0|                 0.0|                 0.0|0.28690273037542663|            0.0|\n",
      "|            33|     19|    474|            null|             0.0|         0.0|         0.0|          0.0|           0|   10|2015|           0.0|          0.0|         0.0|                 0.0|                 0.0|                 0.0| 0.2490405117270789|            0.0|\n",
      "|            33|     22|    474|              49|           500.0|       500.0|         1.0|          1.0|           1|   10|2015|           0.0|          1.0|         0.0|                 1.0|                 1.0|                 3.0|0.26204690831556504|            0.0|\n",
      "|            33|      7|    474|            null|             0.0|         0.0|         0.0|          0.0|           0|   10|2015|           0.0|          0.0|         0.0|                 0.0|                 0.0|                 0.0|0.26423544465770954|            0.0|\n",
      "|            33|     34|    474|            null|             0.0|         0.0|         0.0|          0.0|           0|   10|2015|           0.0|          0.0|         0.0|                 0.0|                 0.0|                 0.0|0.08296011942844957|            0.0|\n",
      "+--------------+-------+-------+----------------+----------------+------------+------------+-------------+------------+-----+----+--------------+-------------+------------+--------------------+--------------------+--------------------+-------------------+---------------+\n",
      "only showing top 5 rows\n",
      "\n"
     ]
    }
   ],
   "source": [
    "train_set = train_set.withColumn('itemByShopMean', F.avg('item_cnt_month').over(Window.partitionBy(\"shop_id\")))\n",
    "train_set = train_set.withColumn('monthlyItemMean', F.avg('item_cnt_month').over(Window.partitionBy(\"item_id\")))\n",
    "validation_set = validation_set.withColumn('itemByShopMean', F.avg('item_cnt_month').over(Window.partitionBy(\"shop_id\")))\n",
    "validation_set = validation_set.withColumn('monthlyItemMean', F.avg('item_cnt_month').over(Window.partitionBy(\"item_id\")))\n",
    "test_set = test_set.withColumn('itemByShopMean', F.avg('item_cnt_month').over(Window.partitionBy(\"shop_id\")))\n",
    "test_set = test_set.withColumn('monthlyItemMean', F.avg('item_cnt_month').over(Window.partitionBy(\"item_id\")))\n",
    "test_set.show(5)"
   ]
  },
  {
   "cell_type": "markdown",
   "metadata": {},
   "source": [
    "Since we dont require the date_block num column because this information is already available in the form of month and year.<br>\n",
    "To finalize the test set I have join my testSet with the original table of test sales available."
   ]
  },
  {
   "cell_type": "code",
   "execution_count": 33,
   "metadata": {},
   "outputs": [
    {
     "data": {
      "text/plain": [
       "DataFrame[shop_id: bigint, item_id: bigint, item_category_id: string, averageItemPrice: double, sumItemPrice: double, sumItemCount: double, meanItemCount: double, transactions: bigint, month: int, year: int, item_cnt_mean: double, item_cnt_std: double, item_cnt_month_prev1: double, item_cnt_month_prev2: double, item_cnt_month_prev3: double, itemByShopMean: double, monthlyItemMean: double]"
      ]
     },
     "execution_count": 33,
     "metadata": {},
     "output_type": "execute_result"
    }
   ],
   "source": [
    "trainSet = train_set.drop('date_block_num')\n",
    "testSet = test_set.drop('date_block_num', 'item_cnt_month')\n",
    "validationSet = validation_set.drop('date_block_num')\n",
    "\n",
    "\n",
    "test = sales_testDf.join(testSet, on=['shop_id', 'item_id'], how=\"full\")\n",
    "test = test.fillna(0)\n",
    "test.drop('ID')"
   ]
  },
  {
   "cell_type": "code",
   "execution_count": 34,
   "metadata": {},
   "outputs": [],
   "source": [
    "trainSet.drop('item_category_id')\n",
    "testSet.drop('item_category_id')\n",
    "validationSet.drop('item_category_id')\n",
    "\n",
    "\n",
    "finalFeatures = ['shop_id', 'item_id', 'sumItemCount', 'transactions', 'year', 'meanItemCount', 'item_cnt_std', 'item_cnt_month_prev1','item_cnt_month_prev2','item_cnt_month_prev3', 'item_cnt_month']\n",
    "train = trainSet[finalFeatures]\n",
    "validation = validationSet[finalFeatures]\n",
    "testFeatures = ['shop_id', 'item_id', 'sumItemCount', 'transactions', 'year', 'meanItemCount', 'item_cnt_std', 'item_cnt_month_prev1','item_cnt_month_prev2','item_cnt_month_prev3']"
   ]
  },
  {
   "cell_type": "code",
   "execution_count": 43,
   "metadata": {},
   "outputs": [
    {
     "name": "stdout",
     "output_type": "stream",
     "text": [
      "+-------+-------+------------+------------+----+-------------+------------+--------------------+--------------------+--------------------+--------------+\n",
      "|shop_id|item_id|sumItemCount|transactions|year|meanItemCount|item_cnt_std|item_cnt_month_prev1|item_cnt_month_prev2|item_cnt_month_prev3|item_cnt_month|\n",
      "+-------+-------+------------+------------+----+-------------+------------+--------------------+--------------------+--------------------+--------------+\n",
      "|      2|   3239|         0.0|           0|2013|          0.0|         0.0|                 0.0|                 0.0|                 0.0|           0.0|\n",
      "|      2|   3239|         0.0|           0|2013|          0.0|         0.0|                 0.0|                 0.0|                 0.0|           0.0|\n",
      "|      2|   3239|         0.0|           0|2013|          0.0|         0.0|                 0.0|                 0.0|                 0.0|           0.0|\n",
      "|      2|   3239|         0.0|           0|2013|          0.0|         0.0|                 0.0|                 0.0|                 0.0|           0.0|\n",
      "|      2|   3239|         0.0|           0|2013|          0.0|         0.0|                 0.0|                 0.0|                 0.0|           0.0|\n",
      "+-------+-------+------------+------------+----+-------------+------------+--------------------+--------------------+--------------------+--------------+\n",
      "only showing top 5 rows\n",
      "\n"
     ]
    }
   ],
   "source": [
    "train.show(5)"
   ]
  },
  {
   "cell_type": "markdown",
   "metadata": {},
   "source": [
    "# Linear Regression"
   ]
  },
  {
   "cell_type": "code",
   "execution_count": 146,
   "metadata": {},
   "outputs": [
    {
     "name": "stdout",
     "output_type": "stream",
     "text": [
      "train RMSE:  0.518654\n",
      "validation RMSE: 0.582873\n",
      "execution time:  360.322\n"
     ]
    }
   ],
   "source": [
    "from pyspark.ml.regression import LinearRegression\n",
    "startTime=time.time()\n",
    "assembler = VectorAssembler(inputCols=['shop_id', 'item_id', 'transactions', 'year', 'meanItemCount', 'item_cnt_std', 'item_cnt_month_prev1','item_cnt_month_prev2','item_cnt_month_prev3'], outputCol=\"features\")\n",
    "transformed = assembler.transform(train)\n",
    "\n",
    "lr = LinearRegression(featuresCol=\"features\", labelCol=\"item_cnt_month\",maxIter=10, regParam=0.3, elasticNetParam=0.8)\n",
    "lrtest = testSet[testFeatures]\n",
    "# Fit the model\n",
    "lrModel = lr.fit(transformed)\n",
    "lr_val_pred = lrModel.transform(assembler.transform(validation))\n",
    "predictions = lrModel.transform(assembler.transform(lrtest))\n",
    "predictions = predictions.join(sales_testDf, ['item_id', 'shop_id'])\n",
    "#predictions.show()\n",
    "lr_train_pred = lrModel.transform(transformed)\n",
    "evaluator = RegressionEvaluator(labelCol = \"item_cnt_month\", predictionCol=\"prediction\", metricName=\"rmse\")\n",
    "Rmsetrain = evaluator.evaluate(lr_train_pred)\n",
    "Rmsevalid = evaluator.evaluate(lr_val_pred)\n",
    "TimeTaken = time.time()-startTime\n",
    "print(\"train RMSE: %g\" %Rmsetrain)\n",
    "print(\"validation RMSE: %g\" %Rmsevalid)\n",
    "print(\"execution time: %g\" %TimeTaken)"
   ]
  },
  {
   "cell_type": "markdown",
   "metadata": {},
   "source": [
    "# Decision Tree Regression"
   ]
  },
  {
   "cell_type": "code",
   "execution_count": 194,
   "metadata": {},
   "outputs": [
    {
     "name": "stdout",
     "output_type": "stream",
     "text": [
      "train RMSE: 0.415686\n",
      "validation RMSE: 0.48784\n",
      "execution time: 367.302\n"
     ]
    }
   ],
   "source": [
    "from pyspark.ml.regression import DecisionTreeRegressor\n",
    "from pyspark.ml.feature import VectorIndexer\n",
    "from pyspark.ml.evaluation import RegressionEvaluator\n",
    "\n",
    "startTime=time.time()\n",
    "# Load the data stored in LIBSVM format as a DataFrame.\n",
    "assembler = VectorAssembler(inputCols=['shop_id', 'item_id', 'transactions', 'year', 'meanItemCount', 'item_cnt_std', 'item_cnt_month_prev1','item_cnt_month_prev2','item_cnt_month_prev3'], outputCol=\"features\")\n",
    "transformed = assembler.transform(train)\n",
    "# data = spark.read.format(\"libsvm\").load(\"data/mllib/sample_libsvm_data.txt\")\n",
    "dt = DecisionTreeRegressor(featuresCol=\"features\", labelCol=\"item_cnt_month\",maxDepth=5, maxBins=32)\n",
    "dttest = testSet[testFeatures]\n",
    "# Fit the model\n",
    "dtModel = dt.fit(transformed)\n",
    "dt_val_pred = dtModel.transform(assembler.transform(validation))\n",
    "predictions = dtModel.transform(assembler.transform(dttest))\n",
    "predictions = predictions.join(sales_testDf, ['item_id', 'shop_id'])\n",
    "#predictions.show()\n",
    "dt_train_pred = dtModel.transform(transformed)\n",
    "evaluator = RegressionEvaluator(labelCol = \"item_cnt_month\", predictionCol=\"prediction\", metricName=\"rmse\")\n",
    "Rmsevalid = evaluator.evaluate(dt_val_pred)\n",
    "Rmsetrain = evaluator.evaluate(dt_train_pred)\n",
    "TimeTaken = time.time()-startTime\n",
    "print(\"train RMSE: %g\" %Rmsetrain)\n",
    "print(\"validation RMSE: %g\" %Rmsevalid)\n",
    "print(\"execution time: %g\" %TimeTaken)"
   ]
  },
  {
   "cell_type": "markdown",
   "metadata": {},
   "source": [
    "# Random Forest Regression"
   ]
  },
  {
   "cell_type": "code",
   "execution_count": 161,
   "metadata": {},
   "outputs": [
    {
     "name": "stdout",
     "output_type": "stream",
     "text": [
      "20\n",
      "30\n",
      "40\n",
      "50\n",
      "60\n",
      "70\n",
      "80\n",
      "90\n",
      "100\n",
      "110\n"
     ]
    }
   ],
   "source": [
    "timeAr = []\n",
    "TrainRmseAr=[]\n",
    "ValidRmseAr=[]\n",
    "FeatureImpAr=[]\n",
    "\n",
    "import time\n",
    "i=10\n",
    "while i<101:\n",
    "    startTime = time.time()\n",
    "    from pyspark.ml.regression import RandomForestRegressor\n",
    "    from pyspark.ml.feature import VectorAssembler\n",
    "    assembler = VectorAssembler(inputCols=['shop_id', 'item_id', 'transactions', 'year', 'meanItemCount', 'item_cnt_std', 'item_cnt_month_prev1','item_cnt_month_prev2','item_cnt_month_prev3'], outputCol=\"features\")\n",
    "    transformed = assembler.transform(train)\n",
    "    rf = RandomForestRegressor(featuresCol=\"features\", labelCol=\"item_cnt_month\").setNumTrees(i)\n",
    "    i+=10\n",
    "    Rftest = testSet[testFeatures]\n",
    "\n",
    "    #Rftest.show(10)\n",
    "\n",
    "\n",
    "    #Rftest.count()\n",
    "    Rfmodel = rf.fit(transformed)\n",
    "    FeatureImpAr.append((Rfmodel.featureImportances))\n",
    "    #print(\"Feature Importances: \" + str(Rfmodel.featureImportances))\n",
    "    rf_val_pred = Rfmodel.transform(assembler.transform(validation))\n",
    "    predictions = Rfmodel.transform(assembler.transform(Rftest))\n",
    "    predictions = predictions.join(sales_testDf, ['item_id', 'shop_id'])\n",
    "    \n",
    "    rf_train_pred = Rfmodel.transform(transformed)\n",
    "    from pyspark.ml.evaluation import RegressionEvaluator\n",
    "    evaluator = RegressionEvaluator(labelCol = \"item_cnt_month\", predictionCol=\"prediction\", metricName=\"rmse\")\n",
    "    Rmsetrain = evaluator.evaluate(rf_train_pred)\n",
    "    TrainRmseAr.append(Rmsetrain)\n",
    "    \n",
    "    Rmsevalid = evaluator.evaluate(rf_val_pred)\n",
    "    ValidRmseAr.append(Rmsevalid)\n",
    "    \n",
    "    TimeTaken = time.time()-startTime\n",
    "    timeAr.append(TimeTaken)\n",
    "    \n",
    "    print(i)\n",
    "\n"
   ]
  },
  {
   "cell_type": "code",
   "execution_count": 56,
   "metadata": {},
   "outputs": [
    {
     "data": {
      "text/plain": [
       "[10, 20, 30, 40, 50, 60, 70, 80, 90, 100]"
      ]
     },
     "execution_count": 56,
     "metadata": {},
     "output_type": "execute_result"
    }
   ],
   "source": [
    "noOfTrees=[i*10 for i in range(1,11)]\n",
    "noOfTrees"
   ]
  },
  {
   "cell_type": "code",
   "execution_count": 164,
   "metadata": {},
   "outputs": [
    {
     "name": "stdout",
     "output_type": "stream",
     "text": [
      "[330.54, 332.3331229686737, 367.43903493881226, 442.246474981308, 474.5559809207916, 664.1641280651093, 654.7197799682617, 690.0897490978241, 738.5123546513548, 874.0400269031525]\n",
      "[0.4128531851365478, 0.4078541659225135, 0.402584621354872, 0.402125844544523, 0.402522354847231, 0.401079578616773, 0.4006486564852689, 0.40017034299753707, 0.40068051988585746, 0.4002342196314401]\n",
      "[0.4801710862283941, 0.4780006020988954, 0.4750542187566113, 0.4741315632018453, 0.4746486564852689, 0.472614853258792, 0.4714313495242122, 0.4715481606562385, 0.4712034821354232, 0.471492168745621]\n"
     ]
    }
   ],
   "source": [
    "print(timeAr)\n",
    "print(TrainRmseAr)\n",
    "print(ValidRmseAr)"
   ]
  },
  {
   "cell_type": "code",
   "execution_count": 61,
   "metadata": {},
   "outputs": [],
   "source": [
    "import matplotlib.pyplot as plt"
   ]
  },
  {
   "cell_type": "code",
   "execution_count": 63,
   "metadata": {},
   "outputs": [
    {
     "data": {
      "image/png": "[encoded data removed]",
      "text/plain": [
       "<matplotlib.figure.Figure at 0x7f6174043610>"
      ]
     },
     "metadata": {},
     "output_type": "display_data"
    }
   ],
   "source": [
    "plt.bar(noOfTrees,timeAr, align = 'center', width=5, alpha=0.7,color='blue')\n",
    "plt.xlabel('number of trees', fontsize=12)\n",
    "plt.ylabel('execution time', fontsize=12)\n",
    "plt.show()"
   ]
  },
  {
   "cell_type": "code",
   "execution_count": 64,
   "metadata": {},
   "outputs": [
    {
     "data": {
      "image/png": "[encoded data removed]",
      "text/plain": [
       "<matplotlib.figure.Figure at 0x7f616cf69e10>"
      ]
     },
     "metadata": {},
     "output_type": "display_data"
    }
   ],
   "source": [
    "plt.bar(noOfTrees,ValidRmseAr,align='center',width=4,color='blue',alpha=0.7)\n",
    "plt.ylim(0.47,0.482)\n",
    "plt.xlabel('No of Trees')\n",
    "plt.ylabel('RMSE')\n",
    "plt.show()"
   ]
  },
  {
   "cell_type": "code",
   "execution_count": 77,
   "metadata": {},
   "outputs": [],
   "source": [
    "columns=['shop_id', 'item_id', 'transactions', 'year', 'meanItemCount', 'item_cnt_std', 'item_cnt_month_prev1','item_cnt_month_prev2','item_cnt_month_prev3']"
   ]
  },
  {
   "cell_type": "code",
   "execution_count": 167,
   "metadata": {},
   "outputs": [
    {
     "data": {
      "image/png": "[encoded data removed]",
      "text/plain": [
       "<matplotlib.figure.Figure at 0x7f616cd2dcd0>"
      ]
     },
     "metadata": {},
     "output_type": "display_data"
    }
   ],
   "source": [
    "plt.barh(columns,FeatureImpAr[6],alpha=0.7,color='orange')\n",
    "plt.xlabel('Feature Importance', fontsize=12)\n",
    "plt.show()"
   ]
  },
  {
   "cell_type": "markdown",
   "metadata": {},
   "source": [
    "Now let's vary the maximum depth and observe output"
   ]
  },
  {
   "cell_type": "code",
   "execution_count": null,
   "metadata": {},
   "outputs": [
    {
     "name": "stdout",
     "output_type": "stream",
     "text": [
      "5\n",
      "7\n",
      "9\n",
      "11\n",
      "13\n",
      "15\n",
      "17\n"
     ]
    }
   ],
   "source": [
    "import time\n",
    "TimeArr=[]\n",
    "RmsetrainArr=[]\n",
    "RmsevalidArr=[]\n",
    "FeatureImpArr=[]\n",
    "i=3\n",
    "while i<16:\n",
    "    startTime = time.time()\n",
    "    from pyspark.ml.regression import RandomForestRegressor\n",
    "    from pyspark.ml.feature import VectorAssembler\n",
    "    assembler = VectorAssembler(inputCols=['shop_id', 'item_id', 'transactions', 'year', 'meanItemCount', 'item_cnt_std', 'item_cnt_month_prev1','item_cnt_month_prev2','item_cnt_month_prev3'], outputCol=\"features\")\n",
    "    transformed = assembler.transform(train)\n",
    "    rf = RandomForestRegressor(featuresCol=\"features\", labelCol=\"item_cnt_month\").setNumTrees(70).setMaxDepth(i)\n",
    "    i+=2\n",
    "    Rftest = testSet[testFeatures]\n",
    "\n",
    "    #Rftest.show(10)\n",
    "\n",
    "\n",
    "    #Rftest.count()\n",
    "    Rfmodel = rf.fit(transformed)\n",
    "    FeatureImpArr.append((Rfmodel.featureImportances))\n",
    "    #print(\"Feature Importances: \" + str(Rfmodel.featureImportances))\n",
    "    rf_val_pred = Rfmodel.transform(assembler.transform(validation))\n",
    "    predictions = Rfmodel.transform(assembler.transform(Rftest))\n",
    "    predictions = predictions.join(sales_testDf, ['item_id', 'shop_id'])\n",
    "    #predictions.show()\n",
    "    rf_train_pred = Rfmodel.transform(transformed)\n",
    "    from pyspark.ml.evaluation import RegressionEvaluator\n",
    "    evaluator = RegressionEvaluator(labelCol = \"item_cnt_month\", predictionCol=\"prediction\", metricName=\"rmse\")\n",
    "    Rmsetrain = evaluator.evaluate(rf_train_pred)\n",
    "    RmsetrainArr.append(Rmsetrain)\n",
    "    #print(\"Training data Root Mean Squared Error: %g\" % Rmsetrain)\n",
    "    Rmsevalid = evaluator.evaluate(rf_val_pred)\n",
    "    RmsevalidArr.append(Rmsevalid)\n",
    "    #print(\"Validation data Root Mean Squared Error: %g\" % Rmsevalid)\n",
    "    TimeTaken = time.time()-startTime\n",
    "    TimeArr.append(TimeTaken)\n",
    "    #print(\"Time taken for job completion: %g\" %TimeTaken)\n",
    "    print(i)\n"
   ]
  },
  {
   "cell_type": "code",
   "execution_count": 129,
   "metadata": {},
   "outputs": [
    {
     "name": "stdout",
     "output_type": "stream",
     "text": [
      "[433.27674198150635, 533.9125940799713, 719.2549269199371, 927.32137799263, 1501.2445168495178, 2134.420378923416, 3349.5383689403534]\n",
      "[0.496142547854236, 0.404387956154784, 0.400215484684518, 0.3992377704239595, 0.3890470044048509, 0.3810851028470186, 0.37514183672026363]\n",
      "[0.55152331548768, 0.471215478845321, 0.468451235487964, 0.466845135748568, 0.46546766794051314, 0.46279936411644174, 0.46203669947633247]\n",
      "[SparseVector(9, {0: 0.0, 1: 0.0003, 2: 0.0934, 3: 0.0001, 4: 0.0589, 5: 0.3166, 6: 0.4484, 7: 0.0539, 8: 0.0284}), SparseVector(9, {0: 0.0001, 1: 0.0005, 2: 0.0868, 3: 0.0004, 4: 0.0473, 5: 0.283, 6: 0.5049, 7: 0.0503, 8: 0.0267}), SparseVector(9, {0: 0.0002, 1: 0.0007, 2: 0.0857, 3: 0.0007, 4: 0.0447, 5: 0.2689, 6: 0.5255, 7: 0.0478, 8: 0.0257}), SparseVector(9, {0: 0.0007, 1: 0.0013, 2: 0.0849, 3: 0.001, 4: 0.0437, 5: 0.2631, 6: 0.5323, 7: 0.0477, 8: 0.0253}), SparseVector(9, {0: 0.0017, 1: 0.0021, 2: 0.0844, 3: 0.0013, 4: 0.0434, 5: 0.2597, 6: 0.5341, 7: 0.048, 8: 0.0253}), SparseVector(9, {0: 0.003, 1: 0.0031, 2: 0.084, 3: 0.0016, 4: 0.0433, 5: 0.2577, 6: 0.5331, 7: 0.0485, 8: 0.0256}), SparseVector(9, {0: 0.0043, 1: 0.0042, 2: 0.0837, 3: 0.002, 4: 0.0432, 5: 0.2565, 6: 0.5311, 7: 0.049, 8: 0.0259})]\n"
     ]
    }
   ],
   "source": [
    "print(TimeArr)\n",
    "print(RmsetrainArr)\n",
    "print(RmsevalidArr)\n",
    "print(FeatureImpArr)"
   ]
  },
  {
   "cell_type": "code",
   "execution_count": 124,
   "metadata": {},
   "outputs": [
    {
     "data": {
      "text/plain": [
       "[3, 5, 7, 9, 11, 13, 15]"
      ]
     },
     "execution_count": 124,
     "metadata": {},
     "output_type": "execute_result"
    }
   ],
   "source": [
    "depthArr=[i for i in range(3,16,2)]\n",
    "depthArr"
   ]
  },
  {
   "cell_type": "code",
   "execution_count": 142,
   "metadata": {},
   "outputs": [
    {
     "data": {
      "image/png": "[encoded data removed]",
      "text/plain": [
       "<matplotlib.figure.Figure at 0x7f616c9d2d90>"
      ]
     },
     "metadata": {},
     "output_type": "display_data"
    }
   ],
   "source": [
    "plt.bar(depthArr,RmsevalidArr,align='center',width=1,color='blue',alpha=0.7)\n",
    "plt.xticks(np.arange(2,16))\n",
    "plt.ylim(0.40,0.58)\n",
    "plt.xlabel('max depth')\n",
    "plt.ylabel('RMSE')\n",
    "plt.show()"
   ]
  },
  {
   "cell_type": "code",
   "execution_count": 143,
   "metadata": {},
   "outputs": [
    {
     "data": {
      "image/png": "[encoded data removed]",
      "text/plain": [
       "<matplotlib.figure.Figure at 0x7f616c8ef610>"
      ]
     },
     "metadata": {},
     "output_type": "display_data"
    }
   ],
   "source": [
    "plt.bar(depthArr,TimeArr, align = 'center', width=1, alpha=0.7,color='blue')\n",
    "plt.xticks(np.arange(2,16))\n",
    "plt.xlabel('max depth', fontsize=12)\n",
    "plt.ylabel('execution time', fontsize=12)\n",
    "plt.show()"
   ]
  },
  {
   "cell_type": "markdown",
   "metadata": {},
   "source": [
    "# Gradient Boostedd Tree Regression"
   ]
  },
  {
   "cell_type": "code",
   "execution_count": 42,
   "metadata": {},
   "outputs": [
    {
     "name": "stdout",
     "output_type": "stream",
     "text": [
      "train RMSE: 0.408354\n",
      "validation RMSE: 0.461454\n",
      "execution time: 5596.71\n"
     ]
    }
   ],
   "source": [
    "import time\n",
    "from pyspark.ml.regression import GBTRegressor\n",
    "from pyspark.mllib.tree import GradientBoostedTrees, GradientBoostedTreesModel\n",
    "from pyspark.ml.feature import VectorAssembler\n",
    "\n",
    "\n",
    "# Load the data stored in LIBSVM format as a DataFrame.\n",
    "assembler = VectorAssembler(inputCols=['shop_id', 'item_id', 'transactions', 'year', 'meanItemCount', 'item_cnt_std', 'item_cnt_month_prev1','item_cnt_month_prev2','item_cnt_month_prev3'], outputCol=\"features\")\n",
    "transformed = assembler.transform(train)\n",
    "# data = spark.read.format(\"libsvm\").load(\"data/mllib/sample_libsvm_data.txt\")\n",
    "gbt = GBTRegressor(featuresCol=\"features\", labelCol=\"item_cnt_month\",maxIter=70)\n",
    "gbttest = testSet[testFeatures]\n",
    "# Fit the model\n",
    "gbtModel = gbt.fit(transformed)\n",
    "gbt_val_pred = gbtModel.transform(assembler.transform(validation))\n",
    "predictions = gbtModel.transform(assembler.transform(gbttest))\n",
    "predictions = predictions.join(sales_testDf, ['item_id', 'shop_id'])\n",
    "#predictions.show()\n",
    "\n",
    "gbt_train_pred = gbtModel.transform(transformed)\n",
    "evaluator = RegressionEvaluator(labelCol = \"item_cnt_month\", predictionCol=\"prediction\", metricName=\"rmse\")\n",
    "Rmsevalid = evaluator.evaluate(gbt_val_pred)\n",
    "TimeTaken = time.time()-startTime\n",
    "print(\"train RMSE: %g\" %Rmsetrain)\n",
    "print(\"validation RMSE: %g\" %Rmsevalid)\n",
    "print(\"execution time: %g\" %TimeTaken)\n"
   ]
  },
  {
   "cell_type": "markdown",
   "metadata": {},
   "source": [
    "# Results"
   ]
  },
  {
   "cell_type": "markdown",
   "metadata": {},
   "source": [
    "The following lines of code can be applied after each algorithm to get the predicted results"
   ]
  },
  {
   "cell_type": "code",
   "execution_count": null,
   "metadata": {},
   "outputs": [],
   "source": [
    "predictions = predictions.join(sales_test, ['item_id', 'shop_id'])\n",
    "predictions.show()"
   ]
  },
  {
   "cell_type": "code",
   "execution_count": 159,
   "metadata": {},
   "outputs": [
    {
     "name": "stdout",
     "output_type": "stream",
     "text": [
      "+-------+-------+------------+------------+----+-------------+------------------+--------------------+--------------------+--------------------+--------------------+-------------------+---+\n",
      "|item_id|shop_id|sumItemCount|transactions|year|meanItemCount|      item_cnt_std|item_cnt_month_prev1|item_cnt_month_prev2|item_cnt_month_prev3|            features|         prediction| ID|\n",
      "+-------+-------+------------+------------+----+-------------+------------------+--------------------+--------------------+--------------------+--------------------+-------------------+---+\n",
      "|   5037|      5|         0.0|           0|2015|          0.0|               0.0|                 0.0|                 0.0|                 0.0|(9,[0,1,3],[5.0,5...|0.13160801036054562|  0|\n",
      "|   5233|      5|         1.0|           1|2015|          1.0|1.1547005383792517|                 3.0|                 1.0|                 2.0|[5.0,5233.0,1.0,2...| 2.8856431858171705|  2|\n",
      "|   5232|      5|         0.0|           0|2015|          0.0|               0.0|                 0.0|                 0.0|                 0.0|(9,[0,1,3],[5.0,5...| 0.1362729933262907|  3|\n",
      "|   5039|      5|         1.0|           1|2015|          1.0|               0.0|                 1.0|                 3.0|                 1.0|[5.0,5039.0,1.0,2...|0.27867594303395793|  5|\n",
      "|   5041|      5|         2.0|           2|2015|          1.0|0.7071067811865476|                 3.0|                 0.0|                 0.0|[5.0,5041.0,2.0,2...|  2.359709534741675|  6|\n",
      "|   5046|      5|         0.0|           0|2015|          0.0|               0.0|                 0.0|                 0.0|                 0.0|(9,[0,1,3],[5.0,5...|0.13160801036054562|  7|\n",
      "|   5319|      5|         0.0|           0|2015|          0.0|               0.0|                 0.0|                 0.0|                 0.0|(9,[0,1,3],[5.0,5...| 0.1362729933262907|  8|\n",
      "|   5003|      5|         0.0|           0|2015|          0.0|               0.0|                 0.0|                 0.0|                 0.0|(9,[0,1,3],[5.0,5...|0.13160801036054562|  9|\n",
      "|   4806|      5|         3.0|           3|2015|          1.0|1.5275252316519468|                 2.0|                 5.0|                 5.0|[5.0,4806.0,3.0,2...| 1.9659729468573572| 10|\n",
      "|   4843|      5|         0.0|           0|2015|          0.0|               0.0|                 0.0|                 0.0|                 0.0|(9,[0,1,3],[5.0,4...|0.13160801036054562| 11|\n",
      "|   4607|      5|         0.0|           0|2015|          0.0|               0.0|                 0.0|                 0.0|                 0.0|(9,[0,1,3],[5.0,4...|0.13160801036054562| 12|\n",
      "|   4869|      5|         0.0|           0|2015|          0.0|               0.0|                 0.0|                 0.0|                 0.0|(9,[0,1,3],[5.0,4...|0.13160801036054562| 13|\n",
      "|   4870|      5|         2.0|           2|2015|          1.0|0.5773502691896258|                 2.0|                 3.0|                 4.0|[5.0,4870.0,2.0,2...|   2.02150337786216| 14|\n",
      "|   4872|      5|         6.0|           6|2015|          1.0|2.6457513110645907|                 1.0|                 2.0|                 1.0|[5.0,4872.0,6.0,2...| 0.9254932567539985| 15|\n",
      "|   4874|      5|         0.0|           0|2015|          0.0|               0.0|                 0.0|                 0.0|                 0.0|(9,[0,1,3],[5.0,4...|0.13160801036054562| 16|\n",
      "|   4678|      5|         0.0|           0|2015|          0.0|               0.0|                 0.0|                 0.0|                 0.0|(9,[0,1,3],[5.0,4...|0.13160801036054562| 17|\n",
      "|   4892|      5|         2.0|           2|2015|          1.0|               0.0|                 2.0|                 2.0|                 2.0|[5.0,4892.0,2.0,2...| 1.3489866496680043| 18|\n",
      "|   4964|      5|         0.0|           0|2015|          0.0|               0.0|                 0.0|                 0.0|                 0.0|(9,[0,1,3],[5.0,4...|0.13160801036054562| 19|\n",
      "|   4717|      5|         1.0|           1|2015|          1.0|               0.0|                 1.0|                 2.0|                 2.0|[5.0,4717.0,1.0,2...| 0.3373587092342043| 20|\n",
      "|   5002|      5|         0.0|           0|2015|          0.0|               0.0|                 0.0|                 0.0|                 0.0|(9,[0,1,3],[5.0,5...|0.13160801036054562| 21|\n",
      "+-------+-------+------------+------------+----+-------------+------------------+--------------------+--------------------+--------------------+--------------------+-------------------+---+\n",
      "only showing top 20 rows\n",
      "\n"
     ]
    }
   ],
   "source": [
    "predictions = predictions.orderBy(\"ID\")\n",
    "predictions.show()"
   ]
  },
  {
   "cell_type": "code",
   "execution_count": 213,
   "metadata": {},
   "outputs": [
    {
     "name": "stdout",
     "output_type": "stream",
     "text": [
      "+---+-------------------+\n",
      "| ID|     item_cnt_month|\n",
      "+---+-------------------+\n",
      "|  0|0.15388505255635387|\n",
      "|  2| 2.9311865305409643|\n",
      "|  3|0.15388505255635387|\n",
      "|  5|0.33423855141020176|\n",
      "|  6| 2.4519852254982615|\n",
      "|  7|0.15388505255635387|\n",
      "|  8|0.15620483699644694|\n",
      "|  9|0.15388505255635387|\n",
      "| 10| 1.9661599219794166|\n",
      "| 11|0.15050119283278407|\n",
      "| 12| 0.1612968487255355|\n",
      "| 13|0.15050119283278407|\n",
      "| 14|  2.008735427529381|\n",
      "| 15|  1.046350273390873|\n",
      "| 16|0.15050119283278407|\n",
      "| 17| 0.1590970522394575|\n",
      "| 18| 1.2428001918385971|\n",
      "| 19|0.15050119283278407|\n",
      "| 20|0.36639961884694905|\n",
      "| 21|0.15388505255635387|\n",
      "+---+-------------------+\n",
      "only showing top 20 rows\n",
      "\n"
     ]
    }
   ],
   "source": [
    "predictedSales = predictions.select(F.col(\"ID\"), F.col(\"Prediction\").alias(\"item_cnt_month\")).orderBy(F.col(\"ID\"))\n",
    "predictedSales.show()"
   ]
  }
 ],
 "metadata": {
  "kernelspec": {
   "display_name": "Python 3",
   "language": "python",
   "name": "python3"
  },
  "language_info": {
   "codemirror_mode": {
    "name": "ipython",
    "version": 3
   },
   "file_extension": ".py",
   "mimetype": "text/x-python",
   "name": "python",
   "nbconvert_exporter": "python",
   "pygments_lexer": "ipython3",
   "version": "3.6.8"
  }
 },
 "nbformat": 4,
 "nbformat_minor": 2
}
